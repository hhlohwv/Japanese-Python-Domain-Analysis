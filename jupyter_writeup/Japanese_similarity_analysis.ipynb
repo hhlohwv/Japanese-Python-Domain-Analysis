{
 "cells": [
  {
   "cell_type": "markdown",
   "id": "f817668c-4270-42d7-a69e-a6121f134aa7",
   "metadata": {},
   "source": [
    "# Japanese Similarity Analysis\n",
    "Auth: Harrison Loh"
   ]
  },
  {
   "cell_type": "markdown",
   "id": "6994a875-7d61-4f70-97e5-c134c0c2ec21",
   "metadata": {},
   "source": [
    "## Abstract\n",
    "asdf"
   ]
  },
  {
   "cell_type": "markdown",
   "id": "6dbaf9b9-41a5-4985-bc72-f6071223dd56",
   "metadata": {},
   "source": [
    "## Introduction\n",
    "Immersion learning is a method of foreign language learning (also called acquisition) which emphasizes the learning of a foreign language using native content in the language as the primary study material.\n",
    "For Japanese, one source of content for use in immersion learning is anime.\n",
    "Different methods and approaches for using anime to learn the Japanese language have been presented on different internet sites and platforms, one example being AJATT (All Japanese All The Time) [[1](https://tatsumoto-ren.github.io/blog/whats-ajatt.html)] and its various adaptations and modifications.\n",
    "\n",
    "One source of information relating to tips, strategies, and tools for applying an AJATT style approach to Japanese learning using Anime is a YouTube channel called Matt vs Japan [[2](https://www.youtube.com/@mattvsjapan)].\n",
    "One idea that has been presented by MattvsJapan, as well as on the Refold language learning guide is the idea of language \"domains\", or genres of content which have a specific subset of language that is commonly used (e.g. fantasy vs. crime drama vs. slice-of-life) [[3](https://refold.la/simplified/stage-2/b/immersion-guide)].\n",
    "By focusing on a single domain, words unique to a domain can be encountered more frequency, thus increasing the chance of acquiring them for long term retention.\n",
    "The aquisition of words has been deemed as highly important for learning a language, such as by Steve Kaufmann (one of the founders of LingQ) [[4](https://www.youtube.com/@Thelinguist)][[5](https://www.lingq.com/en/)].\n",
    "Therefore, focusing on a single domain when immersing is an attractive strategy for quickly aquiring foreign language vocabulary.\n",
    "\n",
    "One idea to determine the domain of a show/piece of content is by the genre of the media (e.g. slice-of-life).\n",
    "While this seems to be a sensible categorization of media into language domains, the question remains (at least to me) whether shows within a single genre quantitatively have a higher language similarity than shows across different tagged genres.\n",
    "\n",
    "The aim of this repo is to provide an analysis of the language content from different anime shows to quantify the degree of similarity in the language used.\n",
    "The objectives are as follows:\n",
    "- Develope criteria for comparing the similarity of the language present between any two shows.\n",
    "- Identify and differentiate between \"core language\" and \"domain language\".\n",
    "- Compare the degree of similarity of the language of shows in a single genre compared to shows across genres.\n",
    "\n",
    "References:\n",
    "- [1] https://tatsumoto-ren.github.io/blog/whats-ajatt.html\n",
    "- [2] https://www.youtube.com/@mattvsjapan\n",
    "- [3] https://refold.la/simplified/stage-2/b/immersion-guide\n",
    "- [4] https://www.youtube.com/@Thelinguist\n",
    "- [5] https://www.lingq.com/en/"
   ]
  },
  {
   "cell_type": "markdown",
   "id": "1d0c5f5f-1046-4ee6-af7c-52520b413b2c",
   "metadata": {},
   "source": [
    "## Methods\n",
    "The subtitles for 100 unique shows were obtained as the dataset for analysis.\n",
    "Subtitle files were downloaded from Kitsunekko.net under the Japanese subtitles page (https://kitsunekko.net/).\n",
    "The genres for the chosen shows were taken from the information present in their respective listings on MyAnimeList (https://myanimelist.net).\n",
    "A complete list of all the shows used with their genres and additional information is included in the \"show_genres.xlsx\" spreadsheet.\n",
    "\n",
    "For analysis, SRT subtitle files were solely used.\n",
    "For any shows with subtitles in the ASS format, conversion of these files to SRT was done using the subtitle tool Aegisub (https://aegisub.org/)."
   ]
  },
  {
   "cell_type": "markdown",
   "id": "bac2de96-c8ba-4de9-a6fe-32231f1a7537",
   "metadata": {},
   "source": [
    "## Results and Discussion\n",
    "asdf"
   ]
  },
  {
   "cell_type": "markdown",
   "id": "357301ac-9f8c-438d-b9dc-db9551b7f6b6",
   "metadata": {},
   "source": [
    "## Conclusion\n",
    "asdf"
   ]
  },
  {
   "cell_type": "code",
   "execution_count": null,
   "id": "3f643008-74ad-46b5-b682-8595fd5ffefc",
   "metadata": {},
   "outputs": [],
   "source": []
  }
 ],
 "metadata": {
  "kernelspec": {
   "display_name": "Python 3 (ipykernel)",
   "language": "python",
   "name": "python3"
  },
  "language_info": {
   "codemirror_mode": {
    "name": "ipython",
    "version": 3
   },
   "file_extension": ".py",
   "mimetype": "text/x-python",
   "name": "python",
   "nbconvert_exporter": "python",
   "pygments_lexer": "ipython3",
   "version": "3.11.3"
  }
 },
 "nbformat": 4,
 "nbformat_minor": 5
}
